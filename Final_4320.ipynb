{
 "cells": [
  {
   "cell_type": "code",
   "execution_count": 1,
   "id": "5bdff6d3-523d-4a62-a814-c654ac16cd66",
   "metadata": {},
   "outputs": [
    {
     "data": {
      "application/vnd.jupyter.widget-view+json": {
       "model_id": "a69d7229c3c34656962175d6a67b6643",
       "version_major": 2,
       "version_minor": 0
      },
      "text/plain": [
       "IntSlider(value=12, continuous_update=False, description='Length:', max=64, min=4)"
      ]
     },
     "metadata": {},
     "output_type": "display_data"
    },
    {
     "data": {
      "application/vnd.jupyter.widget-view+json": {
       "model_id": "bd5c9c119a5742dfae9c98b47286fa2f",
       "version_major": 2,
       "version_minor": 0
      },
      "text/plain": [
       "Checkbox(value=True, description='Uppercase')"
      ]
     },
     "metadata": {},
     "output_type": "display_data"
    },
    {
     "data": {
      "application/vnd.jupyter.widget-view+json": {
       "model_id": "2208a055a6004194adab08be6c1289ca",
       "version_major": 2,
       "version_minor": 0
      },
      "text/plain": [
       "Checkbox(value=True, description='Lowercase')"
      ]
     },
     "metadata": {},
     "output_type": "display_data"
    },
    {
     "data": {
      "application/vnd.jupyter.widget-view+json": {
       "model_id": "7f1247d68dba4226a9c1df55d8b4bf56",
       "version_major": 2,
       "version_minor": 0
      },
      "text/plain": [
       "Checkbox(value=True, description='Digits')"
      ]
     },
     "metadata": {},
     "output_type": "display_data"
    },
    {
     "data": {
      "application/vnd.jupyter.widget-view+json": {
       "model_id": "623c8c5a70e24eb88d63b9ce67c86a72",
       "version_major": 2,
       "version_minor": 0
      },
      "text/plain": [
       "Checkbox(value=True, description='Symbols')"
      ]
     },
     "metadata": {},
     "output_type": "display_data"
    },
    {
     "data": {
      "application/vnd.jupyter.widget-view+json": {
       "model_id": "9ca6d0517168415d8a2a97fd6a801f51",
       "version_major": 2,
       "version_minor": 0
      },
      "text/plain": [
       "Button(button_style='success', description='Generate Password', style=ButtonStyle())"
      ]
     },
     "metadata": {},
     "output_type": "display_data"
    },
    {
     "data": {
      "application/vnd.jupyter.widget-view+json": {
       "model_id": "9f980db4f64f47329f5a8068a0ee0cb6",
       "version_major": 2,
       "version_minor": 0
      },
      "text/plain": [
       "Output()"
      ]
     },
     "metadata": {},
     "output_type": "display_data"
    }
   ],
   "source": [
    "import secrets\n",
    "import string\n",
    "import ipywidgets as widgets\n",
    "from IPython.display import display\n",
    "\n",
    "# Password Generation Function\n",
    "def generate_password(length, use_upper, use_lower, use_digits, use_symbols):\n",
    "    chars = ''\n",
    "    if use_upper:\n",
    "        chars += string.ascii_uppercase\n",
    "    if use_lower:\n",
    "        chars += string.ascii_lowercase\n",
    "    if use_digits:\n",
    "        chars += string.digits\n",
    "    if use_symbols:\n",
    "        chars += string.punctuation\n",
    "\n",
    "    if not chars:\n",
    "        return \"Please select at least one character set!\"\n",
    "\n",
    "    return ''.join(secrets.choice(chars) for _ in range(length))\n",
    "\n",
    "# Widgets\n",
    "length_slider = widgets.IntSlider(value=12, min=4, max=64, description='Length:', continuous_update=False)\n",
    "upper_check = widgets.Checkbox(value=True, description='Uppercase')\n",
    "lower_check = widgets.Checkbox(value=True, description='Lowercase')\n",
    "digits_check = widgets.Checkbox(value=True, description='Digits')\n",
    "symbols_check = widgets.Checkbox(value=True, description='Symbols')\n",
    "generate_button = widgets.Button(description=\"Generate Password\", button_style='success')\n",
    "output = widgets.Output()\n",
    "\n",
    "# Button Click Handler\n",
    "def on_generate_clicked(b):\n",
    "    with output:\n",
    "        output.clear_output()\n",
    "        password = generate_password(\n",
    "            length_slider.value,\n",
    "            upper_check.value,\n",
    "            lower_check.value,\n",
    "            digits_check.value,\n",
    "            symbols_check.value\n",
    "        )\n",
    "        print(f\"🔐 Generated Password:\\n{password}\")\n",
    "\n",
    "generate_button.on_click(on_generate_clicked)\n",
    "\n",
    "# Display Widgets\n",
    "display(length_slider, upper_check, lower_check, digits_check, symbols_check, generate_button, output)\n"
   ]
  },
  {
   "cell_type": "code",
   "execution_count": null,
   "id": "64dc78e7-8203-404e-823e-ef9024c28229",
   "metadata": {},
   "outputs": [],
   "source": []
  }
 ],
 "metadata": {
  "kernelspec": {
   "display_name": "Python 3 (ipykernel)",
   "language": "python",
   "name": "python3"
  },
  "language_info": {
   "codemirror_mode": {
    "name": "ipython",
    "version": 3
   },
   "file_extension": ".py",
   "mimetype": "text/x-python",
   "name": "python",
   "nbconvert_exporter": "python",
   "pygments_lexer": "ipython3",
   "version": "3.11.5"
  }
 },
 "nbformat": 4,
 "nbformat_minor": 5
}
